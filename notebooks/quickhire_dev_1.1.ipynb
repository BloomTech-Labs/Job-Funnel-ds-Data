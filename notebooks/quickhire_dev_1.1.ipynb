{
 "cells": [
  {
   "cell_type": "markdown",
   "metadata": {},
   "source": [
    "# Quickhire\n",
    "\n",
    "## Vector Representations\n",
    "\n",
    "- 1. Clean: Job Listings from current database:\n",
    "- 2. Spacy to tokenize the listings\n",
    "- 3. Scikit-Learn's CountVectorizer to get word counts for each listing.\n",
    "- 4. Visualize the most common word counts\n",
    "- 5. Scikit-Learn's tfidfVectorizer to get a TF-IDF feature matrix\n",
    "- 6. Created a NearestNeighbor Model. Write the description of your ideal datascience job and query your job listings."
   ]
  },
  {
   "cell_type": "code",
   "execution_count": 1,
   "metadata": {},
   "outputs": [],
   "source": [
    "\"\"\" Import Statements \"\"\"\n",
    "\n",
    "# Classics\n",
    "import pandas as pd\n",
    "import numpy as np\n",
    "\n",
    "# Base\n",
    "from collections import Counter\n",
    "import re\n",
    "import string\n",
    "\n",
    "# Plotting\n",
    "import squarify\n",
    "import seaborn as sns\n",
    "import matplotlib.pyplot as plt\n",
    "\n",
    "#webscrapping\n",
    "from bs4 import BeautifulSoup\n",
    "import requests\n",
    "import os\n",
    "import time\n",
    "import csv\n",
    "\n",
    "from sklearn.feature_extraction.text import CountVectorizer, TfidfVectorizer\n",
    "from sklearn.metrics.pairwise import cosine_similarity\n",
    "from sklearn.neighbors import NearestNeighbors\n",
    "from sklearn.decomposition import PCA\n",
    "\n",
    "# NLP Libraries\n",
    "from spacy.tokenizer import Tokenizer\n",
    "from nltk.stem import PorterStemmer\n",
    "\n",
    "import spacy\n",
    "nlp = spacy.load(\"en_core_web_lg\")\n",
    "\n",
    "def tokenize(text):\n",
    "    \"\"\"Parses a string into a list of semantic units (words)\n",
    "\n",
    "    Args:\n",
    "        text (str): The string that the function will tokenize.\n",
    "\n",
    "    Returns:\n",
    "        list: tokens parsed out by the mechanics of your choice\n",
    "    \"\"\"\n",
    "    \n",
    "    tokens = re.sub(r'[^a-zA-Z ^0-9]', '', text)\n",
    "    tokens = tokens.lower().split()"
   ]
  },
  {
   "cell_type": "markdown",
   "metadata": {},
   "source": [
    "## 1. Clean: Job Listings from current database:"
   ]
  },
  {
   "cell_type": "code",
   "execution_count": 2,
   "metadata": {},
   "outputs": [
    {
     "data": {
      "text/plain": [
       "'/Users/jorge/quickhire/Job-Funnel-ds-Data/Notebooks'"
      ]
     },
     "execution_count": 2,
     "metadata": {},
     "output_type": "execute_result"
    }
   ],
   "source": [
    "pwd"
   ]
  },
  {
   "cell_type": "code",
   "execution_count": 3,
   "metadata": {},
   "outputs": [
    {
     "name": "stdout",
     "output_type": "stream",
     "text": [
      "Scraper1.2.ipynb         quickhire_dev_1.1.ipynb\n",
      "new_scrape_data.csv      scraper.ipynb\n"
     ]
    }
   ],
   "source": [
    "ls"
   ]
  },
  {
   "cell_type": "code",
   "execution_count": 4,
   "metadata": {},
   "outputs": [],
   "source": [
    "# df = pd.read_csv(\"/Users/jorge/quickhire/Job-Funnel-ds-Data/Data/job_listings1.2.csv\")\n",
    "# replace blank flavor with \"\"\n",
    "# df = df.replace(np.nan, '', regex=True)\n",
    "# df.replace(\"?\", np.NaN)\n",
    "# df = df.rename(\n",
    "#    columns={\n",
    "#        \"description_x\": \"job_description\",\n",
    "#        \"description_y\": \"company_description\",\n",
    "#    }\n",
    "#)\n",
    "# print(df.shape)\n",
    "# df.head(3)"
   ]
  },
  {
   "cell_type": "code",
   "execution_count": 5,
   "metadata": {},
   "outputs": [],
   "source": [
    "pages = [0, 10, 20, 30, 40, 50, 60, 70, 80, 90, 100]\n",
    "\n",
    "with open('/Users/jorge/quickhire/Job-Funnel-ds-Data/Data/data_scientist_jobs.csv', 'a', encoding='utf-8', newline='') as f_output:\n",
    "    csv_print = csv.writer(f_output)\n",
    "    \n",
    "    file_is_empty = os.stat('/Users/jorge/quickhire/Job-Funnel-ds-Data/Data/data_scientist_jobs.csv').st_size == 0\n",
    "    if file_is_empty:\n",
    "        csv_print.writerow(['Job Title', 'Company', 'Location', 'Summary'])\n",
    "        \n",
    "    # get data from url\n",
    "    for page in pages:\n",
    "        source = requests.get('https://www.indeed.com/jobs?q=data+scientist&l=Miami,+FL&fromage=15&radius=25&start={}'.format(page)).text\n",
    "\n",
    "        soup = BeautifulSoup(source, 'html.parser')\n",
    "        # print(soup.prettify())\n",
    "\n",
    "        for jobs in soup.find_all(class_='result'):\n",
    "        #     print(jobs.prettify())\n",
    "        #     print('------------')\n",
    "\n",
    "            try:\n",
    "                job_title = jobs.find('div', class_='title').text.strip()\n",
    "            except Exception as e:\n",
    "                job_title = None\n",
    "#             print('Job Title', job_title)\n",
    "\n",
    "            try:\n",
    "                company = jobs.span.text.strip()\n",
    "            except Exception as e:\n",
    "                company = None\n",
    "#             print('Company', company)\n",
    "    \n",
    "            try:\n",
    "                location = jobs.find('div', class_='location accessible-contrast-color-location').text.strip()\n",
    "            except Exception as e:\n",
    "                location = None\n",
    "#             print('Location', location)\n",
    "    \n",
    "            try:\n",
    "                summary = jobs.find('div', class_='summary').text.strip()\n",
    "            except Exception as e:\n",
    "                summary = None\n",
    "#             print('Summary', summary)\n",
    "            \n",
    "            csv_print.writerow([job_title, company, location, summary])\n",
    "\n",
    "\n",
    "# jobs = soup.find(class_='result')\n",
    "# print(jobs.prettify())\n",
    "\n",
    "# job_title = jobs.a.text.strip()\n",
    "# print(job_title)\n",
    "\n",
    "# company = jobs.span.text.strip()\n",
    "# print(company)\n",
    "\n",
    "# location = jobs.find('div', class_='location accessible-contrast-color-location').text.strip()\n",
    "# print(location)\n",
    "\n",
    "# summary = jobs.find('div', class_='summary').text.strip()\n",
    "# print(summary)"
   ]
  },
  {
   "cell_type": "code",
   "execution_count": 6,
   "metadata": {},
   "outputs": [
    {
     "data": {
      "text/html": [
       "<div>\n",
       "<style scoped>\n",
       "    .dataframe tbody tr th:only-of-type {\n",
       "        vertical-align: middle;\n",
       "    }\n",
       "\n",
       "    .dataframe tbody tr th {\n",
       "        vertical-align: top;\n",
       "    }\n",
       "\n",
       "    .dataframe thead th {\n",
       "        text-align: right;\n",
       "    }\n",
       "</style>\n",
       "<table border=\"1\" class=\"dataframe\">\n",
       "  <thead>\n",
       "    <tr style=\"text-align: right;\">\n",
       "      <th></th>\n",
       "      <th>Job Title</th>\n",
       "      <th>Company</th>\n",
       "      <th>Location</th>\n",
       "      <th>Summary</th>\n",
       "    </tr>\n",
       "  </thead>\n",
       "  <tbody>\n",
       "    <tr>\n",
       "      <th>0</th>\n",
       "      <td></td>\n",
       "      <td>HackerUSA</td>\n",
       "      <td>Coral Gables, FL 33134</td>\n",
       "      <td>At least 3 years of experience working with us...</td>\n",
       "    </tr>\n",
       "    <tr>\n",
       "      <th>1</th>\n",
       "      <td></td>\n",
       "      <td>SafraPay</td>\n",
       "      <td></td>\n",
       "      <td>Credit origination model development, analytic...</td>\n",
       "    </tr>\n",
       "    <tr>\n",
       "      <th>2</th>\n",
       "      <td></td>\n",
       "      <td>Mixed In Key</td>\n",
       "      <td></td>\n",
       "      <td>This work will be 100% remote.\\nWe're looking ...</td>\n",
       "    </tr>\n",
       "    <tr>\n",
       "      <th>3</th>\n",
       "      <td></td>\n",
       "      <td>HackerUSA</td>\n",
       "      <td></td>\n",
       "      <td>At least 3 years of experience working with us...</td>\n",
       "    </tr>\n",
       "    <tr>\n",
       "      <th>4</th>\n",
       "      <td></td>\n",
       "      <td>US Department of Defense</td>\n",
       "      <td></td>\n",
       "      <td>A. Specialized Experience: You must have at le...</td>\n",
       "    </tr>\n",
       "    <tr>\n",
       "      <th>5</th>\n",
       "      <td></td>\n",
       "      <td>ChenMed</td>\n",
       "      <td></td>\n",
       "      <td>Statistics and analytical modeling, time-serie...</td>\n",
       "    </tr>\n",
       "    <tr>\n",
       "      <th>6</th>\n",
       "      <td></td>\n",
       "      <td>HackerUSA</td>\n",
       "      <td>Coral Gables, FL 33134</td>\n",
       "      <td>At least 3 years of experience working with us...</td>\n",
       "    </tr>\n",
       "    <tr>\n",
       "      <th>7</th>\n",
       "      <td></td>\n",
       "      <td>SafraPay</td>\n",
       "      <td></td>\n",
       "      <td>Credit origination model development, analytic...</td>\n",
       "    </tr>\n",
       "    <tr>\n",
       "      <th>8</th>\n",
       "      <td></td>\n",
       "      <td>Mixed In Key</td>\n",
       "      <td></td>\n",
       "      <td>This work will be 100% remote.\\nWe're looking ...</td>\n",
       "    </tr>\n",
       "    <tr>\n",
       "      <th>9</th>\n",
       "      <td></td>\n",
       "      <td>HackerUSA</td>\n",
       "      <td></td>\n",
       "      <td>At least 3 years of experience working with us...</td>\n",
       "    </tr>\n",
       "  </tbody>\n",
       "</table>\n",
       "</div>"
      ],
      "text/plain": [
       "  Job Title                   Company                Location  \\\n",
       "0                           HackerUSA  Coral Gables, FL 33134   \n",
       "1                            SafraPay                           \n",
       "2                        Mixed In Key                           \n",
       "3                           HackerUSA                           \n",
       "4            US Department of Defense                           \n",
       "5                             ChenMed                           \n",
       "6                           HackerUSA  Coral Gables, FL 33134   \n",
       "7                            SafraPay                           \n",
       "8                        Mixed In Key                           \n",
       "9                           HackerUSA                           \n",
       "\n",
       "                                             Summary  \n",
       "0  At least 3 years of experience working with us...  \n",
       "1  Credit origination model development, analytic...  \n",
       "2  This work will be 100% remote.\\nWe're looking ...  \n",
       "3  At least 3 years of experience working with us...  \n",
       "4  A. Specialized Experience: You must have at le...  \n",
       "5  Statistics and analytical modeling, time-serie...  \n",
       "6  At least 3 years of experience working with us...  \n",
       "7  Credit origination model development, analytic...  \n",
       "8  This work will be 100% remote.\\nWe're looking ...  \n",
       "9  At least 3 years of experience working with us...  "
      ]
     },
     "execution_count": 6,
     "metadata": {},
     "output_type": "execute_result"
    }
   ],
   "source": [
    "df_scrapping = pd.read_csv('/Users/jorge/quickhire/Job-Funnel-ds-Data/Data/data_scientist_jobs.csv')\n",
    "df_scrapping = df_scrapping.replace(np.nan, '', regex=True)\n",
    "df_scrapping.replace(\"?\", np.NaN)\n",
    "df_scrapping.head(10)"
   ]
  },
  {
   "cell_type": "code",
   "execution_count": 7,
   "metadata": {},
   "outputs": [
    {
     "data": {
      "text/html": [
       "<div>\n",
       "<style scoped>\n",
       "    .dataframe tbody tr th:only-of-type {\n",
       "        vertical-align: middle;\n",
       "    }\n",
       "\n",
       "    .dataframe tbody tr th {\n",
       "        vertical-align: top;\n",
       "    }\n",
       "\n",
       "    .dataframe thead th {\n",
       "        text-align: right;\n",
       "    }\n",
       "</style>\n",
       "<table border=\"1\" class=\"dataframe\">\n",
       "  <thead>\n",
       "    <tr style=\"text-align: right;\">\n",
       "      <th></th>\n",
       "      <th>Job Title</th>\n",
       "      <th>Company</th>\n",
       "      <th>Location</th>\n",
       "      <th>Summary</th>\n",
       "    </tr>\n",
       "  </thead>\n",
       "  <tbody>\n",
       "    <tr>\n",
       "      <th>122</th>\n",
       "      <td></td>\n",
       "      <td>Booz Allen Hamilton</td>\n",
       "      <td></td>\n",
       "      <td>Applicants selected will be subject to a secur...</td>\n",
       "    </tr>\n",
       "    <tr>\n",
       "      <th>123</th>\n",
       "      <td></td>\n",
       "      <td>Beckman Coulter Life Sciences</td>\n",
       "      <td></td>\n",
       "      <td>To accomplish all of this, you’ll need to buil...</td>\n",
       "    </tr>\n",
       "    <tr>\n",
       "      <th>124</th>\n",
       "      <td></td>\n",
       "      <td>Ascendo Resources</td>\n",
       "      <td>Miami, FL 33131</td>\n",
       "      <td>Credit origination model development, analytic...</td>\n",
       "    </tr>\n",
       "    <tr>\n",
       "      <th>125</th>\n",
       "      <td></td>\n",
       "      <td>Jobot</td>\n",
       "      <td>Miami, FL</td>\n",
       "      <td>Apply unsupervised and supervised machine lear...</td>\n",
       "    </tr>\n",
       "    <tr>\n",
       "      <th>126</th>\n",
       "      <td></td>\n",
       "      <td>Jobot</td>\n",
       "      <td>Miami, FL</td>\n",
       "      <td>Apply unsupervised and supervised machine lear...</td>\n",
       "    </tr>\n",
       "    <tr>\n",
       "      <th>127</th>\n",
       "      <td></td>\n",
       "      <td>Ascendo Resources</td>\n",
       "      <td>Miami, FL 33131</td>\n",
       "      <td>Credit origination model development, analytic...</td>\n",
       "    </tr>\n",
       "    <tr>\n",
       "      <th>128</th>\n",
       "      <td></td>\n",
       "      <td>Amzur</td>\n",
       "      <td></td>\n",
       "      <td>As a Data Scientist, you will discover busines...</td>\n",
       "    </tr>\n",
       "    <tr>\n",
       "      <th>129</th>\n",
       "      <td></td>\n",
       "      <td>Mixed In Key</td>\n",
       "      <td></td>\n",
       "      <td>This work will be 100% remote.\\nWe're looking ...</td>\n",
       "    </tr>\n",
       "    <tr>\n",
       "      <th>130</th>\n",
       "      <td></td>\n",
       "      <td>Booz Allen Hamilton</td>\n",
       "      <td></td>\n",
       "      <td>Applicants selected will be subject to a secur...</td>\n",
       "    </tr>\n",
       "    <tr>\n",
       "      <th>131</th>\n",
       "      <td></td>\n",
       "      <td>Beckman Coulter Life Sciences</td>\n",
       "      <td></td>\n",
       "      <td>To accomplish all of this, you’ll need to buil...</td>\n",
       "    </tr>\n",
       "  </tbody>\n",
       "</table>\n",
       "</div>"
      ],
      "text/plain": [
       "    Job Title                        Company         Location  \\\n",
       "122                      Booz Allen Hamilton                    \n",
       "123            Beckman Coulter Life Sciences                    \n",
       "124                        Ascendo Resources  Miami, FL 33131   \n",
       "125                                    Jobot        Miami, FL   \n",
       "126                                    Jobot        Miami, FL   \n",
       "127                        Ascendo Resources  Miami, FL 33131   \n",
       "128                                    Amzur                    \n",
       "129                             Mixed In Key                    \n",
       "130                      Booz Allen Hamilton                    \n",
       "131            Beckman Coulter Life Sciences                    \n",
       "\n",
       "                                               Summary  \n",
       "122  Applicants selected will be subject to a secur...  \n",
       "123  To accomplish all of this, you’ll need to buil...  \n",
       "124  Credit origination model development, analytic...  \n",
       "125  Apply unsupervised and supervised machine lear...  \n",
       "126  Apply unsupervised and supervised machine lear...  \n",
       "127  Credit origination model development, analytic...  \n",
       "128  As a Data Scientist, you will discover busines...  \n",
       "129  This work will be 100% remote.\\nWe're looking ...  \n",
       "130  Applicants selected will be subject to a secur...  \n",
       "131  To accomplish all of this, you’ll need to buil...  "
      ]
     },
     "execution_count": 7,
     "metadata": {},
     "output_type": "execute_result"
    }
   ],
   "source": [
    "df_scrapping.tail(10)"
   ]
  },
  {
   "cell_type": "code",
   "execution_count": 10,
   "metadata": {},
   "outputs": [
    {
     "data": {
      "text/plain": [
       "Job Title    object\n",
       "Company      object\n",
       "Location     object\n",
       "Summary      object\n",
       "dtype: object"
      ]
     },
     "execution_count": 10,
     "metadata": {},
     "output_type": "execute_result"
    }
   ],
   "source": [
    "df.dtypes"
   ]
  },
  {
   "cell_type": "code",
   "execution_count": 13,
   "metadata": {},
   "outputs": [
    {
     "data": {
      "text/plain": [
       "0      At least 3 years of experience working with us...\n",
       "1      Credit origination model development, analytic...\n",
       "2      This work will be 100% remote.\\nWe're looking ...\n",
       "3      At least 3 years of experience working with us...\n",
       "4      A. Specialized Experience: You must have at le...\n",
       "5      Statistics and analytical modeling, time-serie...\n",
       "6      At least 3 years of experience working with us...\n",
       "7      Credit origination model development, analytic...\n",
       "8      This work will be 100% remote.\\nWe're looking ...\n",
       "9      At least 3 years of experience working with us...\n",
       "10     A. Specialized Experience: You must have at le...\n",
       "11     Statistics and analytical modeling, time-serie...\n",
       "12     Credit origination model development, analytic...\n",
       "13     This work will be 100% remote.\\nWe're looking ...\n",
       "14     At least 3 years of experience working with us...\n",
       "15     A. Specialized Experience: You must have at le...\n",
       "16     Statistics and analytical modeling, time-serie...\n",
       "17     At least 3 years of experience working with us...\n",
       "18     Credit origination model development, analytic...\n",
       "19     This work will be 100% remote.\\nWe're looking ...\n",
       "20     At least 3 years of experience working with us...\n",
       "21     A. Specialized Experience: You must have at le...\n",
       "22     Statistics and analytical modeling, time-serie...\n",
       "23     At least 3 years of experience working with us...\n",
       "24     This work will be 100% remote.\\nWe're looking ...\n",
       "25     Credit origination model development, analytic...\n",
       "26     At least 3 years of experience working with us...\n",
       "27     A. Specialized Experience: You must have at le...\n",
       "28     Statistics and analytical modeling, time-serie...\n",
       "29     At least 3 years of experience working with us...\n",
       "                             ...                        \n",
       "102    Apply unsupervised and supervised machine lear...\n",
       "103    Credit origination model development, analytic...\n",
       "104    As a Data Scientist, you will discover busines...\n",
       "105    This work will be 100% remote.\\nWe're looking ...\n",
       "106    Applicants selected will be subject to a secur...\n",
       "107    To accomplish all of this, you’ll need to buil...\n",
       "108    Apply unsupervised and supervised machine lear...\n",
       "109    Credit origination model development, analytic...\n",
       "110    As a Data Scientist, you will discover busines...\n",
       "111    This work will be 100% remote.\\nWe're looking ...\n",
       "112    Applicants selected will be subject to a secur...\n",
       "113    To accomplish all of this, you’ll need to buil...\n",
       "114    Apply unsupervised and supervised machine lear...\n",
       "115    Credit origination model development, analytic...\n",
       "116    As a Data Scientist, you will discover busines...\n",
       "117    This work will be 100% remote.\\nWe're looking ...\n",
       "118    Applicants selected will be subject to a secur...\n",
       "119    To accomplish all of this, you’ll need to buil...\n",
       "120    As a Data Scientist, you will discover busines...\n",
       "121    This work will be 100% remote.\\nWe're looking ...\n",
       "122    Applicants selected will be subject to a secur...\n",
       "123    To accomplish all of this, you’ll need to buil...\n",
       "124    Credit origination model development, analytic...\n",
       "125    Apply unsupervised and supervised machine lear...\n",
       "126    Apply unsupervised and supervised machine lear...\n",
       "127    Credit origination model development, analytic...\n",
       "128    As a Data Scientist, you will discover busines...\n",
       "129    This work will be 100% remote.\\nWe're looking ...\n",
       "130    Applicants selected will be subject to a secur...\n",
       "131    To accomplish all of this, you’ll need to buil...\n",
       "Name: Summary, Length: 132, dtype: object"
      ]
     },
     "execution_count": 13,
     "metadata": {},
     "output_type": "execute_result"
    }
   ],
   "source": [
    "df['Summary'][0:]"
   ]
  },
  {
   "cell_type": "code",
   "execution_count": 14,
   "metadata": {},
   "outputs": [],
   "source": [
    "# df['job_description'].head()\n",
    "\n",
    "df['Summary'] = df['Summary'].str.replace(r'\\\\(x|n)[a-z0-9]{0,2}', ' ')\n",
    "df['Summary'] = df['Summary'].str.replace(r'<[^<]+?>', '').str.replace(r'^b.', '')\n",
    "df['Summary'] = df['Summary'].str.replace('/', ' ')\n",
    "df['Summary'] = df['Summary'].str.replace(r\"\\s+\", \" \")\n",
    "df['Summary'] = df['Summary'].str.replace('/\\d\\.\\s+|[a-z]\\)\\s+|•\\s+|[A-Z]\\.\\s+|[IVX]+\\.\\s+/g', \"\")"
   ]
  },
  {
   "cell_type": "code",
   "execution_count": 15,
   "metadata": {},
   "outputs": [],
   "source": [
    "df['Summary']= df['Summary'].astype(str)"
   ]
  },
  {
   "cell_type": "code",
   "execution_count": 16,
   "metadata": {},
   "outputs": [],
   "source": [
    "def punct_cleaning(column):\n",
    "    processed_data = []\n",
    "    for i in column:\n",
    "        text = re.sub('[%s]' % string.punctuation, '', i).lower()\n",
    "        processed_data.append(text)\n",
    "    return pd.DataFrame(processed_data)"
   ]
  },
  {
   "cell_type": "code",
   "execution_count": 17,
   "metadata": {},
   "outputs": [
    {
     "data": {
      "text/plain": [
       "'specialized experience you must have at least one year 52 weekof specialized experience at the gs9 or equivalent level specialized experience is…'"
      ]
     },
     "execution_count": 17,
     "metadata": {},
     "output_type": "execute_result"
    }
   ],
   "source": [
    "df['Summary'] = punct_cleaning(df['Summary'])\n",
    "df['Summary'][10]"
   ]
  },
  {
   "cell_type": "markdown",
   "metadata": {},
   "source": [
    "## 2. Use Spacy to tokenize the listings:"
   ]
  },
  {
   "cell_type": "code",
   "execution_count": 18,
   "metadata": {},
   "outputs": [],
   "source": [
    "nlp = spacy.load('en_core_web_lg')"
   ]
  },
  {
   "cell_type": "code",
   "execution_count": 19,
   "metadata": {},
   "outputs": [],
   "source": [
    "# Tokenizer\n",
    "tokenizer = Tokenizer(nlp.vocab)"
   ]
  },
  {
   "cell_type": "code",
   "execution_count": 20,
   "metadata": {},
   "outputs": [],
   "source": [
    "#Tokenizer Pipe\n",
    "\n",
    "tokens = []\n",
    "\n",
    "# Make the tokens\n",
    "for doc in nlp.pipe(df['Summary'], disable=['tagger', 'parser', 'ner']):\n",
    "    \n",
    "    doc_tokens = []\n",
    "    \n",
    "    for token in doc:\n",
    "        if (token.is_stop==False) & (token.is_punct==False):\n",
    "           doc_tokens.append(token.text)\n",
    "   \n",
    "    tokens.append(doc_tokens)\n",
    "    \n",
    "df['tokens'] = tokens"
   ]
  },
  {
   "cell_type": "code",
   "execution_count": 21,
   "metadata": {},
   "outputs": [
    {
     "data": {
      "text/plain": [
       "0    [3, years, experience, working, users, require...\n",
       "1    [credit, origination, model, development, anal...\n",
       "2    [work, 100, remote, looking, expert, knowledge...\n",
       "3    [3, years, experience, working, users, require...\n",
       "4    [specialized, experience, year, 52, weekof, sp...\n",
       "Name: tokens, dtype: object"
      ]
     },
     "execution_count": 21,
     "metadata": {},
     "output_type": "execute_result"
    }
   ],
   "source": [
    "df['tokens'].head()"
   ]
  },
  {
   "cell_type": "code",
   "execution_count": 23,
   "metadata": {},
   "outputs": [],
   "source": [
    "def get_lemmas(text):\n",
    "    \n",
    "    lemmas = []\n",
    "    \n",
    "    doc = nlp(text)\n",
    "    \n",
    "    # Something goes here :P\n",
    "    for token in doc:\n",
    "        if ((token.is_stop == False) and (token.is_punct == False)) and (token.pos_!= 'PRON'):\n",
    "            lemmas.append(token.lemma_)\n",
    "    return lemmas\n",
    "\n",
    "df['lemmas'] = df['Summary'].apply(get_lemmas)"
   ]
  },
  {
   "cell_type": "code",
   "execution_count": 25,
   "metadata": {},
   "outputs": [
    {
     "name": "stdout",
     "output_type": "stream",
     "text": [
      "(132, 6)\n"
     ]
    },
    {
     "data": {
      "text/html": [
       "<div>\n",
       "<style scoped>\n",
       "    .dataframe tbody tr th:only-of-type {\n",
       "        vertical-align: middle;\n",
       "    }\n",
       "\n",
       "    .dataframe tbody tr th {\n",
       "        vertical-align: top;\n",
       "    }\n",
       "\n",
       "    .dataframe thead th {\n",
       "        text-align: right;\n",
       "    }\n",
       "</style>\n",
       "<table border=\"1\" class=\"dataframe\">\n",
       "  <thead>\n",
       "    <tr style=\"text-align: right;\">\n",
       "      <th></th>\n",
       "      <th>Job Title</th>\n",
       "      <th>Company</th>\n",
       "      <th>Location</th>\n",
       "      <th>Summary</th>\n",
       "      <th>tokens</th>\n",
       "      <th>lemmas</th>\n",
       "    </tr>\n",
       "  </thead>\n",
       "  <tbody>\n",
       "    <tr>\n",
       "      <th>0</th>\n",
       "      <td></td>\n",
       "      <td>HackerUSA</td>\n",
       "      <td>Coral Gables, FL 33134</td>\n",
       "      <td>at least 3 years of experience working with us...</td>\n",
       "      <td>[3, years, experience, working, users, require...</td>\n",
       "      <td>[3, year, experience, work, user, requirement,...</td>\n",
       "    </tr>\n",
       "    <tr>\n",
       "      <th>1</th>\n",
       "      <td></td>\n",
       "      <td>SafraPay</td>\n",
       "      <td></td>\n",
       "      <td>credit origination model development analytics...</td>\n",
       "      <td>[credit, origination, model, development, anal...</td>\n",
       "      <td>[credit, origination, model, development, anal...</td>\n",
       "    </tr>\n",
       "    <tr>\n",
       "      <th>2</th>\n",
       "      <td></td>\n",
       "      <td>Mixed In Key</td>\n",
       "      <td></td>\n",
       "      <td>this work will be 100 remote were looking for ...</td>\n",
       "      <td>[work, 100, remote, looking, expert, knowledge...</td>\n",
       "      <td>[work, 100, remote, look, expert, knowledge, h...</td>\n",
       "    </tr>\n",
       "    <tr>\n",
       "      <th>3</th>\n",
       "      <td></td>\n",
       "      <td>HackerUSA</td>\n",
       "      <td></td>\n",
       "      <td>at least 3 years of experience working with us...</td>\n",
       "      <td>[3, years, experience, working, users, require...</td>\n",
       "      <td>[3, year, experience, work, user, requirement,...</td>\n",
       "    </tr>\n",
       "    <tr>\n",
       "      <th>4</th>\n",
       "      <td></td>\n",
       "      <td>US Department of Defense</td>\n",
       "      <td></td>\n",
       "      <td>specialized experience you must have at least ...</td>\n",
       "      <td>[specialized, experience, year, 52, weekof, sp...</td>\n",
       "      <td>[specialized, experience, year, 52, weekof, sp...</td>\n",
       "    </tr>\n",
       "  </tbody>\n",
       "</table>\n",
       "</div>"
      ],
      "text/plain": [
       "  Job Title                   Company                Location  \\\n",
       "0                           HackerUSA  Coral Gables, FL 33134   \n",
       "1                            SafraPay                           \n",
       "2                        Mixed In Key                           \n",
       "3                           HackerUSA                           \n",
       "4            US Department of Defense                           \n",
       "\n",
       "                                             Summary  \\\n",
       "0  at least 3 years of experience working with us...   \n",
       "1  credit origination model development analytics...   \n",
       "2  this work will be 100 remote were looking for ...   \n",
       "3  at least 3 years of experience working with us...   \n",
       "4  specialized experience you must have at least ...   \n",
       "\n",
       "                                              tokens  \\\n",
       "0  [3, years, experience, working, users, require...   \n",
       "1  [credit, origination, model, development, anal...   \n",
       "2  [work, 100, remote, looking, expert, knowledge...   \n",
       "3  [3, years, experience, working, users, require...   \n",
       "4  [specialized, experience, year, 52, weekof, sp...   \n",
       "\n",
       "                                              lemmas  \n",
       "0  [3, year, experience, work, user, requirement,...  \n",
       "1  [credit, origination, model, development, anal...  \n",
       "2  [work, 100, remote, look, expert, knowledge, h...  \n",
       "3  [3, year, experience, work, user, requirement,...  \n",
       "4  [specialized, experience, year, 52, weekof, sp...  "
      ]
     },
     "execution_count": 25,
     "metadata": {},
     "output_type": "execute_result"
    }
   ],
   "source": [
    "print(df.shape) \n",
    "df.head()"
   ]
  },
  {
   "cell_type": "markdown",
   "metadata": {},
   "source": [
    "## 3. Use Scikit-Learn's CountVectorizer to get word counts for each listing."
   ]
  },
  {
   "cell_type": "code",
   "execution_count": 26,
   "metadata": {},
   "outputs": [
    {
     "data": {
      "text/html": [
       "<div>\n",
       "<style scoped>\n",
       "    .dataframe tbody tr th:only-of-type {\n",
       "        vertical-align: middle;\n",
       "    }\n",
       "\n",
       "    .dataframe tbody tr th {\n",
       "        vertical-align: top;\n",
       "    }\n",
       "\n",
       "    .dataframe thead th {\n",
       "        text-align: right;\n",
       "    }\n",
       "</style>\n",
       "<table border=\"1\" class=\"dataframe\">\n",
       "  <thead>\n",
       "    <tr style=\"text-align: right;\">\n",
       "      <th></th>\n",
       "      <th>100</th>\n",
       "      <th>1099</th>\n",
       "      <th>52</th>\n",
       "      <th>access</th>\n",
       "      <th>accomplish</th>\n",
       "      <th>algorithms</th>\n",
       "      <th>analysis</th>\n",
       "      <th>analytical</th>\n",
       "      <th>analytics</th>\n",
       "      <th>analyze</th>\n",
       "      <th>...</th>\n",
       "      <th>useful</th>\n",
       "      <th>users</th>\n",
       "      <th>valuable</th>\n",
       "      <th>waiting</th>\n",
       "      <th>warehouse</th>\n",
       "      <th>weekof</th>\n",
       "      <th>work</th>\n",
       "      <th>working</th>\n",
       "      <th>year</th>\n",
       "      <th>years</th>\n",
       "    </tr>\n",
       "  </thead>\n",
       "  <tbody>\n",
       "    <tr>\n",
       "      <th>0</th>\n",
       "      <td>0</td>\n",
       "      <td>0</td>\n",
       "      <td>0</td>\n",
       "      <td>0</td>\n",
       "      <td>0</td>\n",
       "      <td>0</td>\n",
       "      <td>0</td>\n",
       "      <td>0</td>\n",
       "      <td>1</td>\n",
       "      <td>0</td>\n",
       "      <td>...</td>\n",
       "      <td>0</td>\n",
       "      <td>1</td>\n",
       "      <td>0</td>\n",
       "      <td>0</td>\n",
       "      <td>0</td>\n",
       "      <td>0</td>\n",
       "      <td>0</td>\n",
       "      <td>1</td>\n",
       "      <td>0</td>\n",
       "      <td>1</td>\n",
       "    </tr>\n",
       "    <tr>\n",
       "      <th>1</th>\n",
       "      <td>0</td>\n",
       "      <td>0</td>\n",
       "      <td>0</td>\n",
       "      <td>0</td>\n",
       "      <td>0</td>\n",
       "      <td>0</td>\n",
       "      <td>0</td>\n",
       "      <td>0</td>\n",
       "      <td>1</td>\n",
       "      <td>0</td>\n",
       "      <td>...</td>\n",
       "      <td>0</td>\n",
       "      <td>0</td>\n",
       "      <td>0</td>\n",
       "      <td>0</td>\n",
       "      <td>0</td>\n",
       "      <td>0</td>\n",
       "      <td>0</td>\n",
       "      <td>0</td>\n",
       "      <td>0</td>\n",
       "      <td>0</td>\n",
       "    </tr>\n",
       "    <tr>\n",
       "      <th>2</th>\n",
       "      <td>1</td>\n",
       "      <td>0</td>\n",
       "      <td>0</td>\n",
       "      <td>0</td>\n",
       "      <td>0</td>\n",
       "      <td>0</td>\n",
       "      <td>0</td>\n",
       "      <td>0</td>\n",
       "      <td>0</td>\n",
       "      <td>0</td>\n",
       "      <td>...</td>\n",
       "      <td>0</td>\n",
       "      <td>0</td>\n",
       "      <td>0</td>\n",
       "      <td>0</td>\n",
       "      <td>0</td>\n",
       "      <td>0</td>\n",
       "      <td>1</td>\n",
       "      <td>0</td>\n",
       "      <td>0</td>\n",
       "      <td>0</td>\n",
       "    </tr>\n",
       "    <tr>\n",
       "      <th>3</th>\n",
       "      <td>0</td>\n",
       "      <td>0</td>\n",
       "      <td>0</td>\n",
       "      <td>0</td>\n",
       "      <td>0</td>\n",
       "      <td>0</td>\n",
       "      <td>0</td>\n",
       "      <td>0</td>\n",
       "      <td>1</td>\n",
       "      <td>0</td>\n",
       "      <td>...</td>\n",
       "      <td>0</td>\n",
       "      <td>1</td>\n",
       "      <td>0</td>\n",
       "      <td>0</td>\n",
       "      <td>0</td>\n",
       "      <td>0</td>\n",
       "      <td>0</td>\n",
       "      <td>1</td>\n",
       "      <td>0</td>\n",
       "      <td>1</td>\n",
       "    </tr>\n",
       "    <tr>\n",
       "      <th>4</th>\n",
       "      <td>0</td>\n",
       "      <td>0</td>\n",
       "      <td>1</td>\n",
       "      <td>0</td>\n",
       "      <td>0</td>\n",
       "      <td>0</td>\n",
       "      <td>0</td>\n",
       "      <td>0</td>\n",
       "      <td>0</td>\n",
       "      <td>0</td>\n",
       "      <td>...</td>\n",
       "      <td>0</td>\n",
       "      <td>0</td>\n",
       "      <td>0</td>\n",
       "      <td>0</td>\n",
       "      <td>0</td>\n",
       "      <td>1</td>\n",
       "      <td>0</td>\n",
       "      <td>0</td>\n",
       "      <td>1</td>\n",
       "      <td>0</td>\n",
       "    </tr>\n",
       "  </tbody>\n",
       "</table>\n",
       "<p>5 rows × 139 columns</p>\n",
       "</div>"
      ],
      "text/plain": [
       "   100  1099  52  access  accomplish  algorithms  analysis  analytical  \\\n",
       "0    0     0   0       0           0           0         0           0   \n",
       "1    0     0   0       0           0           0         0           0   \n",
       "2    1     0   0       0           0           0         0           0   \n",
       "3    0     0   0       0           0           0         0           0   \n",
       "4    0     0   1       0           0           0         0           0   \n",
       "\n",
       "   analytics  analyze  ...  useful  users  valuable  waiting  warehouse  \\\n",
       "0          1        0  ...       0      1         0        0          0   \n",
       "1          1        0  ...       0      0         0        0          0   \n",
       "2          0        0  ...       0      0         0        0          0   \n",
       "3          1        0  ...       0      1         0        0          0   \n",
       "4          0        0  ...       0      0         0        0          0   \n",
       "\n",
       "   weekof  work  working  year  years  \n",
       "0       0     0        1     0      1  \n",
       "1       0     0        0     0      0  \n",
       "2       0     1        0     0      0  \n",
       "3       0     0        1     0      1  \n",
       "4       1     0        0     1      0  \n",
       "\n",
       "[5 rows x 139 columns]"
      ]
     },
     "execution_count": 26,
     "metadata": {},
     "output_type": "execute_result"
    }
   ],
   "source": [
    "# create the transformer:\n",
    "vect = CountVectorizer(stop_words='english')\n",
    "\n",
    "#Learn our Vocab\n",
    "vect.fit(df['Summary'])\n",
    "\n",
    "# Get sparse dtm\n",
    "dtm = vect.transform(df['Summary'])\n",
    "\n",
    "dtm = pd.DataFrame(dtm.todense(), columns=vect.get_feature_names())\n",
    "\n",
    "dtm.head()"
   ]
  },
  {
   "cell_type": "code",
   "execution_count": 27,
   "metadata": {},
   "outputs": [
    {
     "data": {
      "text/plain": [
       "(132, 139)"
      ]
     },
     "execution_count": 27,
     "metadata": {},
     "output_type": "execute_result"
    }
   ],
   "source": [
    "dtm.shape "
   ]
  },
  {
   "cell_type": "markdown",
   "metadata": {},
   "source": [
    "## 4) Visualize the most common word counts"
   ]
  },
  {
   "cell_type": "code",
   "execution_count": 28,
   "metadata": {},
   "outputs": [],
   "source": [
    "doc_len = [len(doc) for doc in df]"
   ]
  },
  {
   "cell_type": "code",
   "execution_count": 29,
   "metadata": {},
   "outputs": [
    {
     "data": {
      "image/png": "[encoded data removed]",
      "text/plain": [
       "<Figure size 432x288 with 1 Axes>"
      ]
     },
     "metadata": {
      "needs_background": "light"
     },
     "output_type": "display_data"
    }
   ],
   "source": [
    "sns.distplot(doc_len)\n",
    "plt.show()"
   ]
  },
  {
   "cell_type": "code",
   "execution_count": 30,
   "metadata": {},
   "outputs": [],
   "source": [
    "def count(docs):\n",
    "\n",
    "        word_counts = Counter()\n",
    "        appears_in = Counter()\n",
    "        \n",
    "        total_docs = len(docs)\n",
    "\n",
    "        for doc in docs:\n",
    "            word_counts.update(doc)\n",
    "            appears_in.update(set(doc))\n",
    "\n",
    "        temp = zip(word_counts.keys(), word_counts.values())\n",
    "        \n",
    "        wc = pd.DataFrame(temp, columns = ['word', 'count'])\n",
    "\n",
    "        wc['rank'] = wc['count'].rank(method='first', ascending=False)\n",
    "        total = wc['count'].sum()\n",
    "\n",
    "        wc['pct_total'] = wc['count'].apply(lambda x: x / total)\n",
    "        \n",
    "        wc = wc.sort_values(by='rank')\n",
    "        wc['cul_pct_total'] = wc['pct_total'].cumsum()\n",
    "\n",
    "        t2 = zip(appears_in.keys(), appears_in.values())\n",
    "        ac = pd.DataFrame(t2, columns=['word', 'appears_in'])\n",
    "        wc = ac.merge(wc, on='word')\n",
    "\n",
    "        wc['appears_in_pct'] = wc['appears_in'].apply(lambda x: x / total_docs)\n",
    "        \n",
    "        return wc.sort_values(by='rank')"
   ]
  },
  {
   "cell_type": "code",
   "execution_count": 49,
   "metadata": {},
   "outputs": [
    {
     "data": {
      "text/html": [
       "<div>\n",
       "<style scoped>\n",
       "    .dataframe tbody tr th:only-of-type {\n",
       "        vertical-align: middle;\n",
       "    }\n",
       "\n",
       "    .dataframe tbody tr th {\n",
       "        vertical-align: top;\n",
       "    }\n",
       "\n",
       "    .dataframe thead th {\n",
       "        text-align: right;\n",
       "    }\n",
       "</style>\n",
       "<table border=\"1\" class=\"dataframe\">\n",
       "  <thead>\n",
       "    <tr style=\"text-align: right;\">\n",
       "      <th></th>\n",
       "      <th>word</th>\n",
       "      <th>appears_in</th>\n",
       "      <th>count</th>\n",
       "      <th>rank</th>\n",
       "      <th>pct_total</th>\n",
       "      <th>cul_pct_total</th>\n",
       "      <th>appears_in_pct</th>\n",
       "    </tr>\n",
       "  </thead>\n",
       "  <tbody>\n",
       "    <tr>\n",
       "      <th>9</th>\n",
       "      <td>experience</td>\n",
       "      <td>75</td>\n",
       "      <td>97</td>\n",
       "      <td>1.0</td>\n",
       "      <td>0.052291</td>\n",
       "      <td>0.052291</td>\n",
       "      <td>0.568182</td>\n",
       "    </tr>\n",
       "    <tr>\n",
       "      <th>36</th>\n",
       "      <td>learning</td>\n",
       "      <td>42</td>\n",
       "      <td>53</td>\n",
       "      <td>2.0</td>\n",
       "      <td>0.028571</td>\n",
       "      <td>0.080863</td>\n",
       "      <td>0.318182</td>\n",
       "    </tr>\n",
       "    <tr>\n",
       "      <th>45</th>\n",
       "      <td>data</td>\n",
       "      <td>37</td>\n",
       "      <td>53</td>\n",
       "      <td>3.0</td>\n",
       "      <td>0.028571</td>\n",
       "      <td>0.109434</td>\n",
       "      <td>0.280303</td>\n",
       "    </tr>\n",
       "    <tr>\n",
       "      <th>5</th>\n",
       "      <td>developing</td>\n",
       "      <td>22</td>\n",
       "      <td>44</td>\n",
       "      <td>4.0</td>\n",
       "      <td>0.023720</td>\n",
       "      <td>0.133154</td>\n",
       "      <td>0.166667</td>\n",
       "    </tr>\n",
       "    <tr>\n",
       "      <th>7</th>\n",
       "      <td>analytics</td>\n",
       "      <td>44</td>\n",
       "      <td>44</td>\n",
       "      <td>5.0</td>\n",
       "      <td>0.023720</td>\n",
       "      <td>0.156873</td>\n",
       "      <td>0.333333</td>\n",
       "    </tr>\n",
       "  </tbody>\n",
       "</table>\n",
       "</div>"
      ],
      "text/plain": [
       "          word  appears_in  count  rank  pct_total  cul_pct_total  \\\n",
       "9   experience          75     97   1.0   0.052291       0.052291   \n",
       "36    learning          42     53   2.0   0.028571       0.080863   \n",
       "45        data          37     53   3.0   0.028571       0.109434   \n",
       "5   developing          22     44   4.0   0.023720       0.133154   \n",
       "7    analytics          44     44   5.0   0.023720       0.156873   \n",
       "\n",
       "    appears_in_pct  \n",
       "9         0.568182  \n",
       "36        0.318182  \n",
       "45        0.280303  \n",
       "5         0.166667  \n",
       "7         0.333333  "
      ]
     },
     "execution_count": 49,
     "metadata": {},
     "output_type": "execute_result"
    }
   ],
   "source": [
    "wc = count(df['tokens'])\n",
    "wc.head()"
   ]
  },
  {
   "cell_type": "code",
   "execution_count": 50,
   "metadata": {},
   "outputs": [
    {
     "data": {
      "text/plain": [
       "<matplotlib.axes._subplots.AxesSubplot at 0x102e763fd0>"
      ]
     },
     "execution_count": 50,
     "metadata": {},
     "output_type": "execute_result"
    },
    {
     "data": {
      "image/png": "[encoded data removed]",
      "text/plain": [
       "<Figure size 432x288 with 1 Axes>"
      ]
     },
     "metadata": {
      "needs_background": "light"
     },
     "output_type": "display_data"
    }
   ],
   "source": [
    "# cumlative distribution plot\n",
    "sns.lineplot(x='rank', y='cul_pct_total', data=wc)"
   ]
  },
  {
   "cell_type": "code",
   "execution_count": 32,
   "metadata": {},
   "outputs": [
    {
     "data": {
      "image/png": "[encoded data removed]",
      "text/plain": [
       "<Figure size 432x288 with 1 Axes>"
      ]
     },
     "metadata": {
      "needs_background": "light"
     },
     "output_type": "display_data"
    }
   ],
   "source": [
    "# Frequency of apperances\n",
    "sns.distplot(wc['appears_in_pct'])\n",
    "plt.show()"
   ]
  },
  {
   "cell_type": "code",
   "execution_count": 33,
   "metadata": {},
   "outputs": [
    {
     "data": {
      "image/png": "[encoded data removed]",
      "text/plain": [
       "<Figure size 432x288 with 1 Axes>"
      ]
     },
     "metadata": {
      "needs_background": "light"
     },
     "output_type": "display_data"
    }
   ],
   "source": [
    "# Tree-Map w/ Words that appear in a least 2.5% of documents. \n",
    "\n",
    "wc = wc[wc['appears_in_pct'] >= 0.025]\n",
    "\n",
    "sns.distplot(wc['appears_in_pct'])\n",
    "plt.show()"
   ]
  },
  {
   "cell_type": "code",
   "execution_count": 34,
   "metadata": {},
   "outputs": [
    {
     "data": {
      "image/png": "[encoded data removed]",
      "text/plain": [
       "<Figure size 432x288 with 1 Axes>"
      ]
     },
     "metadata": {
      "needs_background": "light"
     },
     "output_type": "display_data"
    }
   ],
   "source": [
    "wc = count(df['tokens'])\n",
    "\n",
    "wc_top20 = wc[wc['rank'] <= 20]\n",
    "\n",
    "squarify.plot(sizes=wc_top20['pct_total'], label=wc_top20['word'], alpha=.7)\n",
    "plt.title('Top Words with Stop Words')\n",
    "plt.axis('off')\n",
    "plt.show()"
   ]
  },
  {
   "cell_type": "code",
   "execution_count": 35,
   "metadata": {},
   "outputs": [
    {
     "data": {
      "image/png": "[encoded data removed]",
      "text/plain": [
       "<Figure size 432x288 with 1 Axes>"
      ]
     },
     "metadata": {
      "needs_background": "light"
     },
     "output_type": "display_data"
    }
   ],
   "source": [
    "wc = count(df['lemmas']) \n",
    "wc_top20 = wc[wc['rank'] <= 20]\n",
    "\n",
    "squarify.plot(sizes=wc_top20['pct_total'], label=wc_top20['word'], alpha=.7 )\n",
    "plt.axis('off')\n",
    "plt.title('Top Words using Lemmas and Stop Words')\n",
    "plt.show()"
   ]
  },
  {
   "cell_type": "markdown",
   "metadata": {},
   "source": [
    "## 5) Use Scikit-Learn's tfidfVectorizer to get a TF-IDF feature matrix"
   ]
  },
  {
   "cell_type": "code",
   "execution_count": 36,
   "metadata": {},
   "outputs": [
    {
     "data": {
      "text/html": [
       "<div>\n",
       "<style scoped>\n",
       "    .dataframe tbody tr th:only-of-type {\n",
       "        vertical-align: middle;\n",
       "    }\n",
       "\n",
       "    .dataframe tbody tr th {\n",
       "        vertical-align: top;\n",
       "    }\n",
       "\n",
       "    .dataframe thead th {\n",
       "        text-align: right;\n",
       "    }\n",
       "</style>\n",
       "<table border=\"1\" class=\"dataframe\">\n",
       "  <thead>\n",
       "    <tr style=\"text-align: right;\">\n",
       "      <th></th>\n",
       "      <th>100</th>\n",
       "      <th>52</th>\n",
       "      <th>access</th>\n",
       "      <th>accomplish</th>\n",
       "      <th>algorithms</th>\n",
       "      <th>analysis</th>\n",
       "      <th>analytical</th>\n",
       "      <th>analytics</th>\n",
       "      <th>applicants</th>\n",
       "      <th>apply</th>\n",
       "      <th>...</th>\n",
       "      <th>understand</th>\n",
       "      <th>understanding</th>\n",
       "      <th>unsupervised</th>\n",
       "      <th>use</th>\n",
       "      <th>users</th>\n",
       "      <th>weekof</th>\n",
       "      <th>work</th>\n",
       "      <th>working</th>\n",
       "      <th>year</th>\n",
       "      <th>years</th>\n",
       "    </tr>\n",
       "  </thead>\n",
       "  <tbody>\n",
       "    <tr>\n",
       "      <th>0</th>\n",
       "      <td>0.000000</td>\n",
       "      <td>0.000000</td>\n",
       "      <td>0.0</td>\n",
       "      <td>0.0</td>\n",
       "      <td>0.0</td>\n",
       "      <td>0.0</td>\n",
       "      <td>0.0</td>\n",
       "      <td>0.215735</td>\n",
       "      <td>0.0</td>\n",
       "      <td>0.0</td>\n",
       "      <td>...</td>\n",
       "      <td>0.0</td>\n",
       "      <td>0.0</td>\n",
       "      <td>0.0</td>\n",
       "      <td>0.0</td>\n",
       "      <td>0.280819</td>\n",
       "      <td>0.000000</td>\n",
       "      <td>0.000000</td>\n",
       "      <td>0.280819</td>\n",
       "      <td>0.000000</td>\n",
       "      <td>0.280819</td>\n",
       "    </tr>\n",
       "    <tr>\n",
       "      <th>1</th>\n",
       "      <td>0.000000</td>\n",
       "      <td>0.000000</td>\n",
       "      <td>0.0</td>\n",
       "      <td>0.0</td>\n",
       "      <td>0.0</td>\n",
       "      <td>0.0</td>\n",
       "      <td>0.0</td>\n",
       "      <td>0.174324</td>\n",
       "      <td>0.0</td>\n",
       "      <td>0.0</td>\n",
       "      <td>...</td>\n",
       "      <td>0.0</td>\n",
       "      <td>0.0</td>\n",
       "      <td>0.0</td>\n",
       "      <td>0.0</td>\n",
       "      <td>0.000000</td>\n",
       "      <td>0.000000</td>\n",
       "      <td>0.000000</td>\n",
       "      <td>0.000000</td>\n",
       "      <td>0.000000</td>\n",
       "      <td>0.000000</td>\n",
       "    </tr>\n",
       "    <tr>\n",
       "      <th>2</th>\n",
       "      <td>0.272814</td>\n",
       "      <td>0.000000</td>\n",
       "      <td>0.0</td>\n",
       "      <td>0.0</td>\n",
       "      <td>0.0</td>\n",
       "      <td>0.0</td>\n",
       "      <td>0.0</td>\n",
       "      <td>0.000000</td>\n",
       "      <td>0.0</td>\n",
       "      <td>0.0</td>\n",
       "      <td>...</td>\n",
       "      <td>0.0</td>\n",
       "      <td>0.0</td>\n",
       "      <td>0.0</td>\n",
       "      <td>0.0</td>\n",
       "      <td>0.000000</td>\n",
       "      <td>0.000000</td>\n",
       "      <td>0.272814</td>\n",
       "      <td>0.000000</td>\n",
       "      <td>0.000000</td>\n",
       "      <td>0.000000</td>\n",
       "    </tr>\n",
       "    <tr>\n",
       "      <th>3</th>\n",
       "      <td>0.000000</td>\n",
       "      <td>0.000000</td>\n",
       "      <td>0.0</td>\n",
       "      <td>0.0</td>\n",
       "      <td>0.0</td>\n",
       "      <td>0.0</td>\n",
       "      <td>0.0</td>\n",
       "      <td>0.215735</td>\n",
       "      <td>0.0</td>\n",
       "      <td>0.0</td>\n",
       "      <td>...</td>\n",
       "      <td>0.0</td>\n",
       "      <td>0.0</td>\n",
       "      <td>0.0</td>\n",
       "      <td>0.0</td>\n",
       "      <td>0.280819</td>\n",
       "      <td>0.000000</td>\n",
       "      <td>0.000000</td>\n",
       "      <td>0.280819</td>\n",
       "      <td>0.000000</td>\n",
       "      <td>0.280819</td>\n",
       "    </tr>\n",
       "    <tr>\n",
       "      <th>4</th>\n",
       "      <td>0.000000</td>\n",
       "      <td>0.243341</td>\n",
       "      <td>0.0</td>\n",
       "      <td>0.0</td>\n",
       "      <td>0.0</td>\n",
       "      <td>0.0</td>\n",
       "      <td>0.0</td>\n",
       "      <td>0.000000</td>\n",
       "      <td>0.0</td>\n",
       "      <td>0.0</td>\n",
       "      <td>...</td>\n",
       "      <td>0.0</td>\n",
       "      <td>0.0</td>\n",
       "      <td>0.0</td>\n",
       "      <td>0.0</td>\n",
       "      <td>0.000000</td>\n",
       "      <td>0.243341</td>\n",
       "      <td>0.000000</td>\n",
       "      <td>0.000000</td>\n",
       "      <td>0.243341</td>\n",
       "      <td>0.000000</td>\n",
       "    </tr>\n",
       "  </tbody>\n",
       "</table>\n",
       "<p>5 rows × 104 columns</p>\n",
       "</div>"
      ],
      "text/plain": [
       "        100        52  access  accomplish  algorithms  analysis  analytical  \\\n",
       "0  0.000000  0.000000     0.0         0.0         0.0       0.0         0.0   \n",
       "1  0.000000  0.000000     0.0         0.0         0.0       0.0         0.0   \n",
       "2  0.272814  0.000000     0.0         0.0         0.0       0.0         0.0   \n",
       "3  0.000000  0.000000     0.0         0.0         0.0       0.0         0.0   \n",
       "4  0.000000  0.243341     0.0         0.0         0.0       0.0         0.0   \n",
       "\n",
       "   analytics  applicants  apply  ...  understand  understanding  unsupervised  \\\n",
       "0   0.215735         0.0    0.0  ...         0.0            0.0           0.0   \n",
       "1   0.174324         0.0    0.0  ...         0.0            0.0           0.0   \n",
       "2   0.000000         0.0    0.0  ...         0.0            0.0           0.0   \n",
       "3   0.215735         0.0    0.0  ...         0.0            0.0           0.0   \n",
       "4   0.000000         0.0    0.0  ...         0.0            0.0           0.0   \n",
       "\n",
       "   use     users    weekof      work   working      year     years  \n",
       "0  0.0  0.280819  0.000000  0.000000  0.280819  0.000000  0.280819  \n",
       "1  0.0  0.000000  0.000000  0.000000  0.000000  0.000000  0.000000  \n",
       "2  0.0  0.000000  0.000000  0.272814  0.000000  0.000000  0.000000  \n",
       "3  0.0  0.280819  0.000000  0.000000  0.280819  0.000000  0.280819  \n",
       "4  0.0  0.000000  0.243341  0.000000  0.000000  0.243341  0.000000  \n",
       "\n",
       "[5 rows x 104 columns]"
      ]
     },
     "execution_count": 36,
     "metadata": {},
     "output_type": "execute_result"
    }
   ],
   "source": [
    "# instantiate vectorizer object:\n",
    "tfidf = TfidfVectorizer(max_df=.97,\n",
    "                        min_df=3,\n",
    "                        stop_words='english')\n",
    "\n",
    "# create a vocabulary and get word counts per document:\n",
    "dtm_tfidf = tfidf.fit_transform(df['Summary'])\n",
    "\n",
    "# print word counts\n",
    "\n",
    "# get feature names to use as dataframe column headers:\n",
    "dtm_tfidf = pd.DataFrame(dtm_tfidf.todense(), columns=tfidf.get_feature_names())\n",
    "\n",
    "# view Feature Matrix as DataFrame:\n",
    "dtm_tfidf.head()"
   ]
  },
  {
   "cell_type": "markdown",
   "metadata": {},
   "source": [
    "## 6) NearestNeighbor Model "
   ]
  },
  {
   "cell_type": "code",
   "execution_count": 42,
   "metadata": {},
   "outputs": [
    {
     "data": {
      "text/plain": [
       "NearestNeighbors(algorithm='kd_tree', leaf_size=30, metric='minkowski',\n",
       "         metric_params=None, n_jobs=None, n_neighbors=5, p=2, radius=1.0)"
      ]
     },
     "execution_count": 42,
     "metadata": {},
     "output_type": "execute_result"
    }
   ],
   "source": [
    "# fit on dtm_tfidf:\n",
    "nn = NearestNeighbors(n_neighbors=5, algorithm='kd_tree')\n",
    "nn.fit(dtm_tfidf)"
   ]
  },
  {
   "cell_type": "code",
   "execution_count": 43,
   "metadata": {},
   "outputs": [],
   "source": [
    "jobs_description =['I am searching for an entry-level data science position. Currently, hold a degree in television and motion pictures. Certificate in project management and knowledge of Python, SQL, Data Visualization, Machine Learning, Linear Algebra, Databases, Statistics and Modeling, Natural Language Processing. Benefits, Health Insurance, Vacation Paid time off, Performance Bonuses, 401k, Retirement Plan, Employee Development Programs.']   "
   ]
  },
  {
   "cell_type": "code",
   "execution_count": 44,
   "metadata": {},
   "outputs": [],
   "source": [
    "job_search = tfidf.transform(jobs_description)"
   ]
  },
  {
   "cell_type": "code",
   "execution_count": 45,
   "metadata": {},
   "outputs": [
    {
     "data": {
      "text/plain": [
       "(array([[0.98927265, 1.06602365, 1.06602365, 1.06602365, 1.06602365]]),\n",
       " array([[101,   5,  11,  41,  47]]))"
      ]
     },
     "execution_count": 45,
     "metadata": {},
     "output_type": "execute_result"
    }
   ],
   "source": [
    "nn.kneighbors(job_search.todense())"
   ]
  },
  {
   "cell_type": "code",
   "execution_count": 47,
   "metadata": {},
   "outputs": [
    {
     "data": {
      "text/plain": [
       "'statistics and analytical modeling timeseries data analysis forecasting modeling machine learning algorithms optimization and deep learning approaches and…'"
      ]
     },
     "execution_count": 47,
     "metadata": {},
     "output_type": "execute_result"
    }
   ],
   "source": [
    "df['Summary'].iloc[47]"
   ]
  },
  {
   "cell_type": "code",
   "execution_count": null,
   "metadata": {},
   "outputs": [],
   "source": []
  }
 ],
 "metadata": {
  "kernelspec": {
   "display_name": "U4S1DS10 (Python 3.7)",
   "language": "python",
   "name": "u4-s1-nlp-ds10"
  },
  "language_info": {
   "codemirror_mode": {
    "name": "ipython",
    "version": 3
   },
   "file_extension": ".py",
   "mimetype": "text/x-python",
   "name": "python",
   "nbconvert_exporter": "python",
   "pygments_lexer": "ipython3",
   "version": "3.7.0"
  }
 },
 "nbformat": 4,
 "nbformat_minor": 4
}
