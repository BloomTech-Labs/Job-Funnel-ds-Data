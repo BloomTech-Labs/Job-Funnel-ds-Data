{
 "cells": [
  {
   "cell_type": "code",
   "execution_count": 3,
   "metadata": {},
   "outputs": [],
   "source": [
    "import pandas as pd\n",
    "import numpy as np \n",
    "import os\n",
    "notebook_path = os.path.abspath(\"EDA.ipynb\")"
   ]
  },
  {
   "cell_type": "code",
   "execution_count": 4,
   "metadata": {},
   "outputs": [
    {
     "data": {
      "text/plain": [
       "'C:\\\\Users\\\\benjamin\\\\Desktop\\\\Job-Funnel-ds-Data\\\\notebooks\\\\EDA.ipynb'"
      ]
     },
     "execution_count": 4,
     "metadata": {},
     "output_type": "execute_result"
    }
   ],
   "source": [
    "notebook_path"
   ]
  },
  {
   "cell_type": "code",
   "execution_count": 5,
   "metadata": {},
   "outputs": [
    {
     "name": "stderr",
     "output_type": "stream",
     "text": [
      "C:\\Users\\benjamin\\Anaconda3\\lib\\site-packages\\IPython\\core\\interactiveshell.py:3063: DtypeWarning: Columns (6,10) have mixed types.Specify dtype option on import or set low_memory=False.\n",
      "  interactivity=interactivity, compiler=compiler, result=result)\n"
     ]
    }
   ],
   "source": [
    "job_listings = os.path.join(os.path.dirname(notebook_path), \"job_listings.csv\")\n",
    "\n",
    "df = pd.read_csv(job_listings)\n"
   ]
  },
  {
   "cell_type": "code",
   "execution_count": 6,
   "metadata": {},
   "outputs": [
    {
     "data": {
      "text/html": [
       "<div>\n",
       "<style scoped>\n",
       "    .dataframe tbody tr th:only-of-type {\n",
       "        vertical-align: middle;\n",
       "    }\n",
       "\n",
       "    .dataframe tbody tr th {\n",
       "        vertical-align: top;\n",
       "    }\n",
       "\n",
       "    .dataframe thead th {\n",
       "        text-align: right;\n",
       "    }\n",
       "</style>\n",
       "<table border=\"1\" class=\"dataframe\">\n",
       "  <thead>\n",
       "    <tr style=\"text-align: right;\">\n",
       "      <th></th>\n",
       "      <th>Unnamed: 0</th>\n",
       "      <th>post_date_utc</th>\n",
       "      <th>pay_min</th>\n",
       "      <th>pay_max</th>\n",
       "      <th>pay_exact</th>\n",
       "      <th>title</th>\n",
       "      <th>seniority</th>\n",
       "      <th>job_id</th>\n",
       "      <th>description_x</th>\n",
       "      <th>company_id</th>\n",
       "      <th>keyphrase</th>\n",
       "      <th>location_id</th>\n",
       "      <th>name</th>\n",
       "      <th>description_y</th>\n",
       "      <th>size</th>\n",
       "      <th>revenue</th>\n",
       "      <th>logo_url</th>\n",
       "      <th>city</th>\n",
       "      <th>state_province</th>\n",
       "      <th>country</th>\n",
       "    </tr>\n",
       "  </thead>\n",
       "  <tbody>\n",
       "    <tr>\n",
       "      <th>0</th>\n",
       "      <td>0</td>\n",
       "      <td>2020-01-31 21:55:07.257399+00:00</td>\n",
       "      <td>30000.0</td>\n",
       "      <td>100000.0</td>\n",
       "      <td>89000.0</td>\n",
       "      <td>software dev</td>\n",
       "      <td>junior</td>\n",
       "      <td>1.0</td>\n",
       "      <td>job 1 this is a great place to work</td>\n",
       "      <td>1.0</td>\n",
       "      <td>java, ruby</td>\n",
       "      <td>1.0</td>\n",
       "      <td>IBM</td>\n",
       "      <td>IBM is the largest technology and consulting e...</td>\n",
       "      <td>500000.0</td>\n",
       "      <td>7.900000e+10</td>\n",
       "      <td>https://coda.newjobs.com/api/imagesproxy/ms/mm...</td>\n",
       "      <td>oakland</td>\n",
       "      <td>california</td>\n",
       "      <td>USA</td>\n",
       "    </tr>\n",
       "    <tr>\n",
       "      <th>1</th>\n",
       "      <td>1</td>\n",
       "      <td>2020-01-31 21:55:07.257399+00:00</td>\n",
       "      <td>30000.0</td>\n",
       "      <td>100000.0</td>\n",
       "      <td>89000.0</td>\n",
       "      <td>software dev</td>\n",
       "      <td>junior</td>\n",
       "      <td>4.0</td>\n",
       "      <td>job 4 this is a great place to work</td>\n",
       "      <td>1.0</td>\n",
       "      <td>NaN</td>\n",
       "      <td>1.0</td>\n",
       "      <td>IBM</td>\n",
       "      <td>IBM is the largest technology and consulting e...</td>\n",
       "      <td>500000.0</td>\n",
       "      <td>7.900000e+10</td>\n",
       "      <td>https://coda.newjobs.com/api/imagesproxy/ms/mm...</td>\n",
       "      <td>oakland</td>\n",
       "      <td>california</td>\n",
       "      <td>USA</td>\n",
       "    </tr>\n",
       "    <tr>\n",
       "      <th>2</th>\n",
       "      <td>2</td>\n",
       "      <td>2020-02-04 18:27:17+00:00</td>\n",
       "      <td>NaN</td>\n",
       "      <td>NaN</td>\n",
       "      <td>NaN</td>\n",
       "      <td>Research Software Engineer</td>\n",
       "      <td>NaN</td>\n",
       "      <td>2034.0</td>\n",
       "      <td>**Introduction**\\n  \\nIBM Research Scientists ...</td>\n",
       "      <td>1.0</td>\n",
       "      <td>NaN</td>\n",
       "      <td>835.0</td>\n",
       "      <td>IBM</td>\n",
       "      <td>IBM is the largest technology and consulting e...</td>\n",
       "      <td>500000.0</td>\n",
       "      <td>7.900000e+10</td>\n",
       "      <td>https://coda.newjobs.com/api/imagesproxy/ms/mm...</td>\n",
       "      <td>oakland</td>\n",
       "      <td>california</td>\n",
       "      <td>USA</td>\n",
       "    </tr>\n",
       "    <tr>\n",
       "      <th>3</th>\n",
       "      <td>3</td>\n",
       "      <td>2020-02-04 20:00:45+00:00</td>\n",
       "      <td>NaN</td>\n",
       "      <td>NaN</td>\n",
       "      <td>NaN</td>\n",
       "      <td>2020 Intern - Back End Developer</td>\n",
       "      <td>NaN</td>\n",
       "      <td>2473.0</td>\n",
       "      <td>**Introduction**\\n  \\nSoftware Developers at I...</td>\n",
       "      <td>1.0</td>\n",
       "      <td>NaN</td>\n",
       "      <td>1045.0</td>\n",
       "      <td>IBM</td>\n",
       "      <td>IBM is the largest technology and consulting e...</td>\n",
       "      <td>500000.0</td>\n",
       "      <td>7.900000e+10</td>\n",
       "      <td>https://coda.newjobs.com/api/imagesproxy/ms/mm...</td>\n",
       "      <td>oakland</td>\n",
       "      <td>california</td>\n",
       "      <td>USA</td>\n",
       "    </tr>\n",
       "    <tr>\n",
       "      <th>4</th>\n",
       "      <td>4</td>\n",
       "      <td>2020-02-04 20:01:52+00:00</td>\n",
       "      <td>NaN</td>\n",
       "      <td>NaN</td>\n",
       "      <td>NaN</td>\n",
       "      <td>Entry Level - Back End Developer</td>\n",
       "      <td>NaN</td>\n",
       "      <td>2493.0</td>\n",
       "      <td>**Introduction**\\n  \\nSoftware Developers at I...</td>\n",
       "      <td>1.0</td>\n",
       "      <td>NaN</td>\n",
       "      <td>688.0</td>\n",
       "      <td>IBM</td>\n",
       "      <td>IBM is the largest technology and consulting e...</td>\n",
       "      <td>500000.0</td>\n",
       "      <td>7.900000e+10</td>\n",
       "      <td>https://coda.newjobs.com/api/imagesproxy/ms/mm...</td>\n",
       "      <td>oakland</td>\n",
       "      <td>california</td>\n",
       "      <td>USA</td>\n",
       "    </tr>\n",
       "  </tbody>\n",
       "</table>\n",
       "</div>"
      ],
      "text/plain": [
       "   Unnamed: 0                     post_date_utc  pay_min   pay_max  pay_exact  \\\n",
       "0           0  2020-01-31 21:55:07.257399+00:00  30000.0  100000.0    89000.0   \n",
       "1           1  2020-01-31 21:55:07.257399+00:00  30000.0  100000.0    89000.0   \n",
       "2           2         2020-02-04 18:27:17+00:00      NaN       NaN        NaN   \n",
       "3           3         2020-02-04 20:00:45+00:00      NaN       NaN        NaN   \n",
       "4           4         2020-02-04 20:01:52+00:00      NaN       NaN        NaN   \n",
       "\n",
       "                              title seniority  job_id  \\\n",
       "0                      software dev    junior     1.0   \n",
       "1                      software dev    junior     4.0   \n",
       "2        Research Software Engineer       NaN  2034.0   \n",
       "3  2020 Intern - Back End Developer       NaN  2473.0   \n",
       "4  Entry Level - Back End Developer       NaN  2493.0   \n",
       "\n",
       "                                       description_x  company_id   keyphrase  \\\n",
       "0                job 1 this is a great place to work         1.0  java, ruby   \n",
       "1                job 4 this is a great place to work         1.0         NaN   \n",
       "2  **Introduction**\\n  \\nIBM Research Scientists ...         1.0         NaN   \n",
       "3  **Introduction**\\n  \\nSoftware Developers at I...         1.0         NaN   \n",
       "4  **Introduction**\\n  \\nSoftware Developers at I...         1.0         NaN   \n",
       "\n",
       "   location_id name                                      description_y  \\\n",
       "0          1.0  IBM  IBM is the largest technology and consulting e...   \n",
       "1          1.0  IBM  IBM is the largest technology and consulting e...   \n",
       "2        835.0  IBM  IBM is the largest technology and consulting e...   \n",
       "3       1045.0  IBM  IBM is the largest technology and consulting e...   \n",
       "4        688.0  IBM  IBM is the largest technology and consulting e...   \n",
       "\n",
       "       size       revenue                                           logo_url  \\\n",
       "0  500000.0  7.900000e+10  https://coda.newjobs.com/api/imagesproxy/ms/mm...   \n",
       "1  500000.0  7.900000e+10  https://coda.newjobs.com/api/imagesproxy/ms/mm...   \n",
       "2  500000.0  7.900000e+10  https://coda.newjobs.com/api/imagesproxy/ms/mm...   \n",
       "3  500000.0  7.900000e+10  https://coda.newjobs.com/api/imagesproxy/ms/mm...   \n",
       "4  500000.0  7.900000e+10  https://coda.newjobs.com/api/imagesproxy/ms/mm...   \n",
       "\n",
       "      city state_province country  \n",
       "0  oakland     california     USA  \n",
       "1  oakland     california     USA  \n",
       "2  oakland     california     USA  \n",
       "3  oakland     california     USA  \n",
       "4  oakland     california     USA  "
      ]
     },
     "execution_count": 6,
     "metadata": {},
     "output_type": "execute_result"
    }
   ],
   "source": [
    "df.head()"
   ]
  },
  {
   "cell_type": "code",
   "execution_count": 7,
   "metadata": {},
   "outputs": [
    {
     "data": {
      "text/plain": [
       "Index(['Unnamed: 0', 'post_date_utc', 'pay_min', 'pay_max', 'pay_exact',\n",
       "       'title', 'seniority', 'job_id', 'description_x', 'company_id',\n",
       "       'keyphrase', 'location_id', 'name', 'description_y', 'size', 'revenue',\n",
       "       'logo_url', 'city', 'state_province', 'country'],\n",
       "      dtype='object')"
      ]
     },
     "execution_count": 7,
     "metadata": {},
     "output_type": "execute_result"
    }
   ],
   "source": [
    "df.columns"
   ]
  },
  {
   "cell_type": "code",
   "execution_count": 9,
   "metadata": {},
   "outputs": [
    {
     "data": {
      "text/plain": [
       "some guy    2\n",
       "junior      2\n",
       "senior      2\n",
       "Name: seniority, dtype: int64"
      ]
     },
     "execution_count": 9,
     "metadata": {},
     "output_type": "execute_result"
    }
   ],
   "source": [
    "df.seniority.value_counts()"
   ]
  },
  {
   "cell_type": "code",
   "execution_count": 10,
   "metadata": {},
   "outputs": [
    {
     "data": {
      "text/plain": [
       "(118782, 20)"
      ]
     },
     "execution_count": 10,
     "metadata": {},
     "output_type": "execute_result"
    }
   ],
   "source": []
  },
  {
   "cell_type": "code",
   "execution_count": null,
   "metadata": {},
   "outputs": [],
   "source": []
  }
 ],
 "metadata": {
  "kernelspec": {
   "display_name": "Python 3",
   "language": "python",
   "name": "python3"
  },
  "language_info": {
   "codemirror_mode": {
    "name": "ipython",
    "version": 3
   },
   "file_extension": ".py",
   "mimetype": "text/x-python",
   "name": "python",
   "nbconvert_exporter": "python",
   "pygments_lexer": "ipython3",
   "version": "3.7.6"
  }
 },
 "nbformat": 4,
 "nbformat_minor": 4
}
