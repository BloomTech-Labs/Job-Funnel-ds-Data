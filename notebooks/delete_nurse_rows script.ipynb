{
 "cells": [
  {
   "cell_type": "code",
   "execution_count": 5,
   "metadata": {},
   "outputs": [],
   "source": [
    "import psycopg2\n",
    "from decouple import config\n",
    "import pandas as pd\n",
    "# make sure to add .env file with the credentials below in this same directory for this notebook to work\n",
    "%load_ext dotenv\n",
    "%dotenv"
   ]
  },
  {
   "cell_type": "code",
   "execution_count": 7,
   "metadata": {},
   "outputs": [
    {
     "name": "stdout",
     "output_type": "stream",
     "text": [
      "(172280,)\n"
     ]
    }
   ],
   "source": [
    "with psycopg2.connect(\n",
    "\t\tdbname=config(\"DB_DB\"),\n",
    "\t\tuser=config(\"DB_USER\"),\n",
    "\t\tpassword=config(\"DB_PASSWORD\"),\n",
    "\t\thost=config(\"DB_HOST\"),\n",
    "\t\tport=config(\"DB_PORT\")\n",
    ") as psql_conn:\n",
    "    \n",
    "    curs = psql_conn.cursor()\n",
    "    curs.execute(\"\"\"\n",
    "        SELECT COUNT(*)\n",
    "        FROM job_listings\n",
    "    \"\"\")\n",
    "    print(curs.fetchone())"
   ]
  },
  {
   "cell_type": "code",
   "execution_count": 8,
   "metadata": {},
   "outputs": [],
   "source": [
    "conn = psycopg2.connect(\n",
    "\t\tdbname=config(\"DB_DB\"),\n",
    "\t\tuser=config(\"DB_USER\"),\n",
    "\t\tpassword=config(\"DB_PASSWORD\"),\n",
    "\t\thost=config(\"DB_HOST\"),\n",
    "\t\tport=config(\"DB_PORT\")\n",
    ")\n",
    "df = pd.read_sql(\"\"\"\n",
    "    SELECT *\n",
    "    FROM job_listings;\n",
    "\"\"\", conn)\n",
    "\n"
   ]
  },
  {
   "cell_type": "code",
   "execution_count": null,
   "metadata": {},
   "outputs": [],
   "source": [
    "with open(\"job_listings.csv\", \"w\") as f:\n",
    "    df.to_csv(f)"
   ]
  },
  {
   "cell_type": "code",
   "execution_count": null,
   "metadata": {},
   "outputs": [],
   "source": [
    "import spacy\n",
    "from spacy.tokenizer import Tokenizer\n",
    "\n",
    "nlp = spacy.load(\"en_core_web_lg\")\n",
    "tokenizer = Tokenizer(nlp.vocab)"
   ]
  },
  {
   "cell_type": "code",
   "execution_count": null,
   "metadata": {},
   "outputs": [],
   "source": [
    "import re\n",
    "\n",
    "def tokenize(doc):\n",
    "    return [\n",
    "        re.sub(r\"[^a-z0-9]\", \"\", t.lemma_.lower()).strip() for t in tokenizer(doc)\n",
    "        if not t.is_stop and not t.is_punct and t.text.strip()\n",
    "    ]\n",
    "\n",
    "df[\"tokens\"] = df[\"title\"].apply(tokenize)\n",
    "df.head()"
   ]
  },
  {
   "cell_type": "code",
   "execution_count": null,
   "metadata": {},
   "outputs": [],
   "source": [
    "df[\"is_nurse\"] = df[\"tokens\"].apply(lambda x: \"nurse\" in x)"
   ]
  },
  {
   "cell_type": "code",
   "execution_count": null,
   "metadata": {},
   "outputs": [],
   "source": [
    "df[\"is_nurse\"].sum()"
   ]
  },
  {
   "cell_type": "code",
   "execution_count": null,
   "metadata": {},
   "outputs": [],
   "source": [
    "nurse_rows = df[df[\"is_nurse\"]].index"
   ]
  },
  {
   "cell_type": "code",
   "execution_count": null,
   "metadata": {},
   "outputs": [],
   "source": [
    "conn = psycopg2.connect(\n",
    "\t\tdbname=config(\"DB_DB\"),\n",
    "\t\tuser=config(\"DB_USER\"),\n",
    "\t\tpassword=config(\"DB_PASSWORD\"),\n",
    "\t\thost=config(\"DB_HOST\"),\n",
    "\t\tport=config(\"DB_PORT\")\n",
    ")\n",
    "curs = conn.cursor()\n",
    "\n",
    "curs.execute(\"\"\"\n",
    "    SELECT *\n",
    "    FROM lda17_topics\n",
    "\"\"\")"
   ]
  },
  {
   "cell_type": "code",
   "execution_count": null,
   "metadata": {},
   "outputs": [],
   "source": [
    "lda_df = pd.read_sql(\"\"\"\n",
    "    SELECT * FROM lda17_topics\n",
    "\"\"\", conn)\n",
    "lda_df.head()"
   ]
  },
  {
   "cell_type": "code",
   "execution_count": null,
   "metadata": {},
   "outputs": [],
   "source": [
    "curs = conn.cursor()\n",
    "execute_batch(curs, \"\"\"\n",
    "    DELETE FROM lda17_topics\n",
    "    WHERE job_id=%s;\n",
    "\"\"\", [[ix] for ix in nurse_rows])\n",
    "execute_batch(curs, \"\"\"\n",
    "    DELETE FROM job_listings\n",
    "    WHERE id=%s;\n",
    "\"\"\", [[ix] for ix in nurse_rows])\n",
    "\n",
    "curs.close()\n",
    "conn.commit()"
   ]
  },
  {
   "cell_type": "code",
   "execution_count": null,
   "metadata": {},
   "outputs": [],
   "source": [
    "curs = conn.cursor()\n",
    "\n",
    "curs.execute(\"\"\"\n",
    "SELECT table_name\n",
    "FROM information_schema.tables\n",
    "WHERE table_schema='public';\n",
    "\"\"\")\n",
    "curs.fetchall()"
   ]
  },
  {
   "cell_type": "code",
   "execution_count": null,
   "metadata": {},
   "outputs": [],
   "source": [
    "\n",
    "df = pd.read_sql(\"\"\"\n",
    "    SELECT *\n",
    "    FROM job_listings;\n",
    "\"\"\", conn)\n",
    "\n",
    "descriptions_df = pd.read_sql(\"\"\"\n",
    "    SELECT *\n",
    "    FROM job_descriptions;\n",
    "\"\"\", conn)\n",
    "companies_df = pd.read_sql(\"\"\"\n",
    "    SELECT *\n",
    "    FROM job_companies;\n",
    "\"\"\", conn)\n",
    "keyphrases_df = pd.read_sql(\"\"\"\n",
    "    SELECT *\n",
    "    FROM job_keyphrases;\n",
    "\"\"\", conn)\n",
    "locations_df = pd.read_sql(\"\"\"\n",
    "    SELECT *\n",
    "    FROM job_locations;\n",
    "\"\"\", conn)\n",
    "descriptions_df.head()"
   ]
  },
  {
   "cell_type": "code",
   "execution_count": null,
   "metadata": {},
   "outputs": [],
   "source": [
    "companies_df.head()"
   ]
  },
  {
   "cell_type": "code",
   "execution_count": null,
   "metadata": {},
   "outputs": [],
   "source": [
    "keyphrases_df.head()"
   ]
  },
  {
   "cell_type": "code",
   "execution_count": null,
   "metadata": {},
   "outputs": [],
   "source": [
    "locations_df.head()"
   ]
  },
  {
   "cell_type": "code",
   "execution_count": null,
   "metadata": {},
   "outputs": [],
   "source": [
    "df = df.merge(descriptions_df, left_on=\"id\", right_on=\"job_id\", how=\"outer\")"
   ]
  },
  {
   "cell_type": "code",
   "execution_count": null,
   "metadata": {},
   "outputs": [],
   "source": [
    "df = df.merge(companies_df, left_on=\"job_id\", right_on=\"job_id\", how=\"outer\")\n",
    "df = df.merge(keyphrases_df, left_on=\"job_id\", right_on=\"job_id\", how=\"outer\")\n",
    "df = df.merge(locations_df, left_on=\"job_id\", right_on=\"job_id\", how=\"outer\")"
   ]
  },
  {
   "cell_type": "code",
   "execution_count": null,
   "metadata": {},
   "outputs": [],
   "source": [
    "for col in df.columns:\n",
    "    print(f\"\\\"{col}\\\"\")"
   ]
  },
  {
   "cell_type": "code",
   "execution_count": null,
   "metadata": {},
   "outputs": [],
   "source": [
    "df = df.drop(columns=[\"id\", \"id_x\", \"id_y\"])\n",
    "df.head()"
   ]
  },
  {
   "cell_type": "code",
   "execution_count": null,
   "metadata": {},
   "outputs": [],
   "source": [
    "companies_df2 = pd.read_sql(\"\"\"\n",
    "    SELECT *\n",
    "    FROM companies;\n",
    "\"\"\", conn)"
   ]
  },
  {
   "cell_type": "code",
   "execution_count": null,
   "metadata": {},
   "outputs": [],
   "source": [
    "df = df.merge(companies_df2, left_on=\"company_id\", right_on=\"id\", how=\"outer\")"
   ]
  },
  {
   "cell_type": "code",
   "execution_count": null,
   "metadata": {},
   "outputs": [],
   "source": [
    "df.head()"
   ]
  },
  {
   "cell_type": "code",
   "execution_count": null,
   "metadata": {},
   "outputs": [],
   "source": [
    "locations_df2 = pd.read_sql(\"\"\"\n",
    "    SELECT *\n",
    "    FROM locations;\n",
    "\"\"\", conn)\n",
    "df = df.merge(locations_df2, left_on=\"company_id\", right_on=\"id\", how=\"outer\")\n",
    "df.head()"
   ]
  },
  {
   "cell_type": "code",
   "execution_count": null,
   "metadata": {},
   "outputs": [],
   "source": [
    "df = df.drop(columns=[\"id_x\", \"id_y\"])\n"
   ]
  },
  {
   "cell_type": "code",
   "execution_count": null,
   "metadata": {},
   "outputs": [],
   "source": [
    "df = df.rename(\n",
    "    columns={\n",
    "        \"description_x\": \"job_description\",\n",
    "        \"description_y\": \"company_description\",\n",
    "    }\n",
    ")"
   ]
  },
  {
   "cell_type": "code",
   "execution_count": null,
   "metadata": {},
   "outputs": [],
   "source": [
    "df.head()"
   ]
  },
  {
   "cell_type": "code",
   "execution_count": null,
   "metadata": {},
   "outputs": [],
   "source": [
    "df.shape"
   ]
  },
  {
   "cell_type": "code",
   "execution_count": null,
   "metadata": {},
   "outputs": [],
   "source": [
    "with open(\"job_listings.csv\", \"w\") as f:\n",
    "    df.to_csv(f)"
   ]
  },
  {
   "cell_type": "code",
   "execution_count": null,
   "metadata": {},
   "outputs": [],
   "source": [
    "df[\"job_description\"].str.replace(r\"\\s+\", \" \")"
   ]
  },
  {
   "cell_type": "code",
   "execution_count": null,
   "metadata": {},
   "outputs": [],
   "source": []
  }
 ],
 "metadata": {
  "kernelspec": {
   "display_name": "Python 3",
   "language": "python",
   "name": "python3"
  },
  "language_info": {
   "codemirror_mode": {
    "name": "ipython",
    "version": 3
   },
   "file_extension": ".py",
   "mimetype": "text/x-python",
   "name": "python",
   "nbconvert_exporter": "python",
   "pygments_lexer": "ipython3",
   "version": "3.7.6"
  }
 },
 "nbformat": 4,
 "nbformat_minor": 4
}
